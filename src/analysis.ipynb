{
 "cells": [
  {
   "cell_type": "code",
   "execution_count": 3,
   "metadata": {},
   "outputs": [],
   "source": [
    "import re\n",
    "from collections import defaultdict\n",
    "\n",
    "def get_loss_dict(file_path):\n",
    "    # Dictionary to store results\n",
    "    loss_dict = defaultdict(list)\n",
    "\n",
    "    # Pattern to match model transition line\n",
    "    transition_pattern = re.compile(r\"(nonoverlappingCNN_\\w+ -> fcnn_decreasing_\\w+)\")\n",
    "    # Pattern to match final loss\n",
    "    loss_pattern = re.compile(r\"Final Loss:\\s*([\\d\\.eE+-]+)\")\n",
    "\n",
    "    with open(file_path, \"r\") as f:\n",
    "        current_key = None\n",
    "        for line in f:\n",
    "            # Check if the line is a model transition\n",
    "            transition_match = transition_pattern.search(line)\n",
    "            if transition_match:\n",
    "                current_key = transition_match.group(1)\n",
    "                continue\n",
    "\n",
    "            # If inside a relevant section, check for Final Loss\n",
    "            if current_key:\n",
    "                loss_match = loss_pattern.search(line)\n",
    "                if loss_match:\n",
    "                    final_loss = float(loss_match.group(1))\n",
    "                    loss_dict[current_key].append(final_loss)\n",
    "                    current_key = None  # reset for next block\n",
    "\n",
    "    for key, losses in loss_dict.items():\n",
    "        print(len(losses), key)\n",
    "        avg_loss = sum(losses) / len(losses)\n",
    "        print(f\"{key}: {losses} → Average Final Loss = {avg_loss:.4f}\")"
   ]
  },
  {
   "cell_type": "code",
   "execution_count": 5,
   "metadata": {},
   "outputs": [
    {
     "name": "stdout",
     "output_type": "stream",
     "text": [
      "10 nonoverlappingCNN_sigmoid -> fcnn_decreasing_sigmoid\n",
      "nonoverlappingCNN_sigmoid -> fcnn_decreasing_sigmoid: [0.0027, 0.0027, 0.0027, 0.0027, 0.0027, 0.0028, 0.0027, 0.0027, 0.0027, 0.0027] → Average Final Loss = 0.0027\n",
      "10 nonoverlappingCNN_sigmoid -> fcnn_decreasing_relu\n",
      "nonoverlappingCNN_sigmoid -> fcnn_decreasing_relu: [0.0074, 0.0075, 0.0076, 0.0076, 0.0075, 0.0076, 0.0077, 0.0076, 0.0076, 0.0077] → Average Final Loss = 0.0076\n",
      "10 nonoverlappingCNN_sigmoid -> fcnn_decreasing_tanh\n",
      "nonoverlappingCNN_sigmoid -> fcnn_decreasing_tanh: [0.0257, 0.0263, 0.0256, 0.0257, 0.0264, 0.0255, 0.0263, 0.0253, 0.0264, 0.0263] → Average Final Loss = 0.0260\n",
      "10 nonoverlappingCNN_relu -> fcnn_decreasing_sigmoid\n",
      "nonoverlappingCNN_relu -> fcnn_decreasing_sigmoid: [3.3682, 3.2936, 3.3604, 3.4348, 3.2134, 3.1891, 3.2927, 3.2244, 3.189, 3.2927] → Average Final Loss = 3.2858\n",
      "10 nonoverlappingCNN_relu -> fcnn_decreasing_relu\n",
      "nonoverlappingCNN_relu -> fcnn_decreasing_relu: [0.0053, 0.005, 0.0053, 0.0053, 0.0052, 4.8667, 0.0054, 0.0054, 0.0053, 0.0054] → Average Final Loss = 0.4914\n",
      "10 nonoverlappingCNN_relu -> fcnn_decreasing_tanh\n",
      "nonoverlappingCNN_relu -> fcnn_decreasing_tanh: [3.4428, 3.5078, 3.5068, 3.5764, 3.3075, 3.346, 3.4298, 3.3702, 3.3303, 3.4298] → Average Final Loss = 3.4247\n",
      "10 nonoverlappingCNN_tanh -> fcnn_decreasing_sigmoid\n",
      "nonoverlappingCNN_tanh -> fcnn_decreasing_sigmoid: [0.2437, 0.2385, 0.2393, 0.1952, 0.24, 0.1843, 0.1961, 0.1957, 0.1949, 0.1957] → Average Final Loss = 0.2123\n",
      "10 nonoverlappingCNN_tanh -> fcnn_decreasing_relu\n",
      "nonoverlappingCNN_tanh -> fcnn_decreasing_relu: [0.1952, 0.1887, 0.1934, 0.1931, 0.192, 0.1812, 0.1918, 0.1927, 0.1923, 0.1927] → Average Final Loss = 0.1913\n",
      "8 nonoverlappingCNN_tanh -> fcnn_decreasing_tanh\n",
      "nonoverlappingCNN_tanh -> fcnn_decreasing_tanh: [0.0045, 0.0047, 0.0047, 0.0046, 0.0046, 0.0045, 0.005, 0.005] → Average Final Loss = 0.0047\n"
     ]
    }
   ],
   "source": [
    "get_loss_dict(\"../experiment_output/experiment__01042025_init0.2.txt\")"
   ]
  },
  {
   "cell_type": "code",
   "execution_count": 6,
   "metadata": {},
   "outputs": [
    {
     "name": "stdout",
     "output_type": "stream",
     "text": [
      "5 nonoverlappingCNN_sigmoid -> fcnn_decreasing_sigmoid\n",
      "nonoverlappingCNN_sigmoid -> fcnn_decreasing_sigmoid: [0.0088, 0.0088, 0.0088, 0.0087, 0.0088] → Average Final Loss = 0.0088\n",
      "5 nonoverlappingCNN_sigmoid -> fcnn_decreasing_relu\n",
      "nonoverlappingCNN_sigmoid -> fcnn_decreasing_relu: [0.2751, 0.2741, 0.2747, 0.276, 0.2769] → Average Final Loss = 0.2754\n",
      "5 nonoverlappingCNN_sigmoid -> fcnn_decreasing_tanh\n",
      "nonoverlappingCNN_sigmoid -> fcnn_decreasing_tanh: [0.0263, 0.026, 0.0259, 0.0262, 0.0264] → Average Final Loss = 0.0262\n",
      "5 nonoverlappingCNN_relu -> fcnn_decreasing_sigmoid\n",
      "nonoverlappingCNN_relu -> fcnn_decreasing_sigmoid: [3.3977, 3.1759, 3.4394, 3.3148, 3.2189] → Average Final Loss = 3.3093\n",
      "5 nonoverlappingCNN_relu -> fcnn_decreasing_relu\n",
      "nonoverlappingCNN_relu -> fcnn_decreasing_relu: [5.0859, 5.0544, 4.7707, 4.9846, 4.8574] → Average Final Loss = 4.9506\n",
      "5 nonoverlappingCNN_relu -> fcnn_decreasing_tanh\n",
      "nonoverlappingCNN_relu -> fcnn_decreasing_tanh: [3.5291, 3.4968, 3.3229, 3.2398, 3.3822] → Average Final Loss = 3.3942\n",
      "5 nonoverlappingCNN_tanh -> fcnn_decreasing_sigmoid\n",
      "nonoverlappingCNN_tanh -> fcnn_decreasing_sigmoid: [0.2, 0.1898, 0.2023, 0.2021, 0.1989] → Average Final Loss = 0.1986\n",
      "5 nonoverlappingCNN_tanh -> fcnn_decreasing_relu\n",
      "nonoverlappingCNN_tanh -> fcnn_decreasing_relu: [0.3878, 0.3855, 0.3871, 0.3918, 0.3883] → Average Final Loss = 0.3881\n"
     ]
    }
   ],
   "source": [
    "get_loss_dict(\"../experiment_output/experiment__01042025_init1.txt\")"
   ]
  },
  {
   "cell_type": "code",
   "execution_count": null,
   "metadata": {},
   "outputs": [],
   "source": []
  }
 ],
 "metadata": {
  "kernelspec": {
   "display_name": "sparse",
   "language": "python",
   "name": "python3"
  },
  "language_info": {
   "codemirror_mode": {
    "name": "ipython",
    "version": 3
   },
   "file_extension": ".py",
   "mimetype": "text/x-python",
   "name": "python",
   "nbconvert_exporter": "python",
   "pygments_lexer": "ipython3",
   "version": "3.13.2"
  }
 },
 "nbformat": 4,
 "nbformat_minor": 2
}
