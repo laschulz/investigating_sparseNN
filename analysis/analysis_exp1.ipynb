{
 "cells": [
  {
   "cell_type": "markdown",
   "metadata": {},
   "source": [
    "## Calculate the averge loss and standard deviation of the loss"
   ]
  },
  {
   "cell_type": "code",
   "execution_count": null,
   "metadata": {},
   "outputs": [],
   "source": [
    "import os\n",
    "import re\n",
    "from collections import defaultdict\n",
    "from statistics import mean, stdev\n",
    "\n",
    "def parse_final_losses_from_file(filepath):\n",
    "    with open(filepath, 'r') as file:\n",
    "        content = file.read()\n",
    "\n",
    "    # Split content by blocks between delimiter lines\n",
    "    blocks = content.split(\"=\" * 80)\n",
    "\n",
    "    model_losses = defaultdict(list)\n",
    "\n",
    "    for block in blocks:\n",
    "        model_match = re.search(r'([^\\s]+)\\s*->\\s*([^\\n]+)', block)\n",
    "        loss_match = re.search(r'Final Loss:\\s*([0-9.]+)', block)\n",
    "\n",
    "        if model_match and loss_match:\n",
    "            teacher_model = model_match.group(1).strip()\n",
    "            student_model = model_match.group(2).strip()\n",
    "            loss = float(loss_match.group(1))\n",
    "\n",
    "            # Aggregate by teacher -> student combination\n",
    "            pair_key = f\"{teacher_model} -> {student_model}\"\n",
    "            model_losses[pair_key].append(loss)\n",
    "    return model_losses\n",
    "\n",
    "def aggregate_losses(folder_path):\n",
    "    aggregated_losses = defaultdict(list)\n",
    "\n",
    "    for root, dirs, files in os.walk(folder_path):\n",
    "        for file in files:\n",
    "            if file.endswith('.txt'):\n",
    "                file_path = os.path.join(root, file)\n",
    "                file_losses = parse_final_losses_from_file(file_path)\n",
    "                for model, losses in file_losses.items():\n",
    "                    aggregated_losses[model].extend(losses)\n",
    "                    \n",
    "    summary = {}\n",
    "    for model_pair, losses in aggregated_losses.items():\n",
    "        avg = mean(losses)\n",
    "        std = stdev(losses) if len(losses) > 1 else 0.0\n",
    "        summary[model_pair] = (avg, std)\n",
    "\n",
    "    return summary\n"
   ]
  },
  {
   "cell_type": "code",
   "execution_count": null,
   "metadata": {},
   "outputs": [
    {
     "name": "stdout",
     "output_type": "stream",
     "text": [
      "Average Final Loss ± Std per Teacher -> Student Model:\n",
      "nonoverlappingCNN_relu -> nonoverlappingCNN_relu: 2.4908 ± 2.2822\n",
      "nonoverlappingCNN_relu -> nonoverlappingCNN_sigmoid: 3.5135 ± 0.1102\n",
      "nonoverlappingCNN_relu -> nonoverlappingCNN_tanh: 3.6827 ± 0.1164\n",
      "nonoverlappingCNN_sigmoid -> nonoverlappingCNN_relu: 0.0896 ± 0.0011\n",
      "nonoverlappingCNN_sigmoid -> nonoverlappingCNN_sigmoid: 0.0021 ± 0.0011\n",
      "nonoverlappingCNN_sigmoid -> nonoverlappingCNN_tanh: 0.2523 ± 0.0002\n",
      "nonoverlappingCNN_tanh -> nonoverlappingCNN_relu: 0.3110 ± 0.0306\n",
      "nonoverlappingCNN_tanh -> nonoverlappingCNN_sigmoid: 0.2668 ± 0.0938\n",
      "nonoverlappingCNN_tanh -> nonoverlappingCNN_tanh: 0.0001 ± 0.0000\n"
     ]
    }
   ],
   "source": [
    "folder = \"../experiment_output/Experiment1\"\n",
    "results = aggregate_losses(folder)\n",
    "\n",
    "print(\"Average Final Loss ± Std per Teacher -> Student Model:\")\n",
    "for model_pair, (avg_loss, std_loss) in sorted(results.items()):\n",
    "    print(f\"{model_pair}: {avg_loss:.4f} ± {std_loss:.4f}\")\n"
   ]
  },
  {
   "cell_type": "code",
   "execution_count": null,
   "metadata": {},
   "outputs": [],
   "source": []
  }
 ],
 "metadata": {
  "kernelspec": {
   "display_name": "sparse",
   "language": "python",
   "name": "python3"
  },
  "language_info": {
   "codemirror_mode": {
    "name": "ipython",
    "version": 3
   },
   "file_extension": ".py",
   "mimetype": "text/x-python",
   "name": "python",
   "nbconvert_exporter": "python",
   "pygments_lexer": "ipython3",
   "version": "3.13.2"
  }
 },
 "nbformat": 4,
 "nbformat_minor": 2
}
